{
 "cells": [
  {
   "cell_type": "markdown",
   "metadata": {},
   "source": [
    "# 03. Downloaden modelresultaten\n",
    "- modelnaam in rasters toevoegen\n",
    "- HTTPError: 504 Server Error: Gateway Time-out oplossen\n",
    "- HTTPError: 503 Server Error: Service Unavailable for url: https://hhnk.lizard.net/api/v3/tasks/92c6b2b8-b841-4fec-b931-87a746892555/"
   ]
  },
  {
   "cell_type": "code",
   "execution_count": 4,
   "metadata": {
    "ExecuteTime": {
     "end_time": "2021-10-18T07:27:41.321541Z",
     "start_time": "2021-10-18T07:27:41.025441Z"
    },
    "scrolled": false
   },
   "outputs": [
    {
     "data": {
      "text/html": [
       "<style>.container {width:90% !important;}</style>"
      ],
      "text/plain": [
       "<IPython.core.display.HTML object>"
      ]
     },
     "metadata": {},
     "output_type": "display_data"
    },
    {
     "name": "stderr",
     "output_type": "stream",
     "text": [
      "Enabling notebook extension jupyter-js-widgets/extension...\n",
      "      - Validating: ok\n"
     ]
    },
    {
     "data": {
      "application/vnd.jupyter.widget-view+json": {
       "model_id": "398fe60185074922a95a77f7f5229212",
       "version_major": 2,
       "version_minor": 0
      },
      "text/plain": [
       "GridBox(children=(HTML(value='<b>1. Login with 3Di account</b>', layout=Layout(grid_area='login_label', width=…"
      ]
     },
     "metadata": {},
     "output_type": "display_data"
    },
    {
     "name": "stdout",
     "output_type": "stream",
     "text": [
      "Kan opgegeven naam niet koppelen aan een output folder\n",
      "\n",
      "\u001b[1m\u001b[31mDownloading files for bwn_test #5 0d1d_test (uuid=ddf6e23c-309c-4916-9adb-50c0a2c8ab0c):\u001b[0m\n",
      "1: https://hhnk.lizard.net/api/v3/scenario-results/251049/results_3di.nc\n",
      "2: https://hhnk.lizard.net/api/v3/scenario-results/251051/aggregate_results_3di.nc\n",
      "3: https://hhnk.lizard.net/api/v3/scenario-results/251048/gridadmin.h5\n",
      "4: https://hhnk.lizard.net/api/v3/scenario-results/251050/log_files.zip\n",
      "path not found, create with '.create()'\n",
      "\n",
      "They will be placed in:\n",
      "C:\\Users\\chris.kerklaan\\Documents\\Github\\hhnk-threedi-tools\\test_polder\\poldera\\03_3di_resultaten\\batch_results\\bwn_test #5 0d1d_test\n",
      "\n",
      "\n",
      "\u001b[1mStarting the download \u001b[0m\n",
      "1. Downloading to C:\\Users\\chris.kerklaan\\Documents\\Github\\hhnk-threedi-tools\\test_polder\\poldera\\03_3di_resultaten\\batch_results\\bwn_test #5 0d1d_test\\results_3di.nc\n"
     ]
    },
    {
     "name": "stderr",
     "output_type": "stream",
     "text": [
      "100%|███████████████████████████████████████████████████████████████████████████████████████████████████████████████████████████████████████████████████| 13.8M/13.8M [00:03<00:00, 4.39MB/s, file=results_3di.nc]\n"
     ]
    },
    {
     "name": "stdout",
     "output_type": "stream",
     "text": [
      "2. Downloading to C:\\Users\\chris.kerklaan\\Documents\\Github\\hhnk-threedi-tools\\test_polder\\poldera\\03_3di_resultaten\\batch_results\\bwn_test #5 0d1d_test\\aggregate_results_3di.nc\n"
     ]
    },
    {
     "name": "stderr",
     "output_type": "stream",
     "text": [
      "100%|█████████████████████████████████████████████████████████████████████████████████████████████████████████████████████████████████████████| 9.78M/9.78M [00:02<00:00, 4.93MB/s, file=aggregate_results_3di.nc]\n"
     ]
    },
    {
     "name": "stdout",
     "output_type": "stream",
     "text": [
      "3. Downloading to C:\\Users\\chris.kerklaan\\Documents\\Github\\hhnk-threedi-tools\\test_polder\\poldera\\03_3di_resultaten\\batch_results\\bwn_test #5 0d1d_test\\gridadmin.h5\n"
     ]
    },
    {
     "name": "stderr",
     "output_type": "stream",
     "text": [
      "100%|███████████████████████████████████████████████████████████████████████████████████████████████████████████████████████████████████████████████████████| 391k/391k [00:00<00:00, 4.30MB/s, file=gridadmin.h5]\n"
     ]
    },
    {
     "name": "stdout",
     "output_type": "stream",
     "text": [
      "4. Downloading to C:\\Users\\chris.kerklaan\\Documents\\Github\\hhnk-threedi-tools\\test_polder\\poldera\\03_3di_resultaten\\batch_results\\bwn_test #5 0d1d_test\\log_files.zip\n"
     ]
    },
    {
     "name": "stderr",
     "output_type": "stream",
     "text": [
      "100%|████████████████████████████████████████████████████████████████████████████████████████████████████████████████████████████████████████████████████| 68.8k/68.8k [00:00<00:00, 1.90MB/s, file=log_files.zip]"
     ]
    },
    {
     "name": "stdout",
     "output_type": "stream",
     "text": [
      "All downloads finished!\n",
      "uuid_list: []\n",
      "code_list: []\n",
      "target_srs_list: []\n",
      "resolution_list: []\n",
      "time_list: []\n",
      "pathname_list: []\n"
     ]
    },
    {
     "name": "stderr",
     "output_type": "stream",
     "text": [
      "\n"
     ]
    }
   ],
   "source": [
    "from threedi_scenario_downloader import downloader as dl\n",
    "import os\n",
    "import logging\n",
    "import sys\n",
    "import importlib\n",
    "\n",
    "# pakketjes niet geinstalleerd? Kopieer van github en link met de onderstaande links:\n",
    "sys.path.append('C:/Users/chris.kerklaan/Documents/Github/hhnk-threedi-tools')\n",
    "sys.path.append('C:/Users/chris.kerklaan/Documents/Github/hhnk-research-tools')\n",
    "\n",
    "\n",
    "import ipywidgets as widgets\n",
    "from IPython.core.display import display, HTML; display(HTML(\"<style>.container {width:90% !important;}</style>\"))\n",
    "%matplotlib inline\n",
    "!jupyter nbextension enable --py --sys-prefix widgetsnbextension\n",
    "\n",
    "# local imports\n",
    "from hhnk_threedi_tools.core.api.download_gui import download_gui\n",
    "from hhnk_threedi_tools import read_notebook_json\n",
    "data = {\"polder_folder\":r\"C:\\Users\\chris.kerklaan\\Documents\\Github\\hhnk-threedi-tools\\test_polder\\poldera\",\n",
    "       \"lizard_api_key\":\"KmBOtiLM.heFnG6o7rd9wvFEi0zXRVS2vjStdGIHD\"}\n",
    "download_tab = download_gui(data=data); download_tab"
   ]
  },
  {
   "cell_type": "code",
   "execution_count": null,
   "metadata": {
    "ExecuteTime": {
     "end_time": "2021-09-29T12:22:07.503017Z",
     "start_time": "2021-09-29T12:22:07.486015Z"
    },
    "scrolled": true
   },
   "outputs": [],
   "source": [
    "import hhnk_threedi_tools as htt\n",
    "import os\n",
    "\n",
    "from hhnk_threedi_tools.core.folders import *\n",
    "\n",
    "folder = htt.Folders(os.path.join(polders_folder, 'poldera'))\n",
    "batch_fd = folder.threedi_results.batch['bwn_test #5 (1) klimaatsommen']\n",
    "\n",
    "\n",
    "# self = batch_fd.downloads\n",
    "# a=ThreediResult(self.full_path('test'))"
   ]
  },
  {
   "cell_type": "code",
   "execution_count": null,
   "metadata": {
    "ExecuteTime": {
     "end_time": "2021-09-29T09:14:40.447706Z",
     "start_time": "2021-09-29T09:13:36.370555Z"
    }
   },
   "outputs": [],
   "source": [
    "#Resume downloads\n",
    "# api_key = input('API key: ')\n",
    "api_key = download_tab.children[1].value\n",
    "# batch_csv_file = '../../07. Poldermodellen/10.tHoekje/03. Model resultaten Hydraulische Toets/2021-08-02 08h34_download_raster_batch.csv'\n",
    "batch_csv_file = r\"C:\\Users\\wvangerwen\\github\\hhnk-threedi-tools\\hhnk_threedi_tools\\tests\\data\\multiple_polders\\poldera\\03_3di_resultaten\\batch_results\\bwn_test #5 (1) klimaatsommen\\2021-09-24 13h48_download_raster_batch.csv\"\n",
    "\n",
    "from threedi_scenario_downloader import downloader as dl\n",
    "\n",
    "dl.set_api_key(api_key)\n",
    "dl.resume_download_tasks(batch_csv_file,overwrite=False)"
   ]
  },
  {
   "cell_type": "markdown",
   "metadata": {},
   "source": [
    "## Downloaden van rasters voor hetzelfde model op alle tijdstappen"
   ]
  },
  {
   "cell_type": "code",
   "execution_count": null,
   "metadata": {
    "ExecuteTime": {
     "end_time": "2021-03-24T13:51:01.238511Z",
     "start_time": "2021-03-24T11:56:26.877Z"
    }
   },
   "outputs": [],
   "source": [
    "dl.set_headers(input('username:'), getpass.getpass())"
   ]
  },
  {
   "cell_type": "code",
   "execution_count": null,
   "metadata": {},
   "outputs": [],
   "source": [
    "import os\n",
    "from threedi_scenario_downloader import downloader as dl\n",
    "import getpass\n",
    "#Change three discenario downloader\n",
    "# def new_get_headers():\n",
    "#     \"\"\"Setting the headers in the original toolbox is not easy when using this GUI. \n",
    "#     Therefore we change this function in the toolbox so everything else works.\"\"\"\n",
    "#     headers_results = {\n",
    "#     \"username\": '{}'.format('w.vanesse'),\n",
    "#     \"password\": '{}'.format(''),\n",
    "#     \"Content-Type\": \"application/json\"}\n",
    "#     return headers_results\n",
    "# setattr(dl,'get_headers', new_get_headers)\n",
    "\n",
    "output_folder = '../../07. Poldermodellen/102. Schermerboezem'\n",
    "uuid='555aaeca-ec9b-40e5-ae0b-ebb9f41505cf'\n",
    "resolution=5\n",
    "\n",
    "a=[]\n",
    "for h in range(4,24):\n",
    "    a.append('2016-01-05T{}:14:16'.format(str(h).zfill(2)))\n",
    "    \n",
    "for h in range(0,24):\n",
    "    a.append('2016-01-06T{}:14:16'.format(str(h).zfill(2)))\n",
    "    \n",
    "for h in range(0,4):\n",
    "    a.append('2016-01-07T{}:14:16'.format(str(h).zfill(2)))\n",
    "\n",
    "\n",
    "wdepth_path=[]\n",
    "for index, time in enumerate(a):\n",
    "    time_path = time.replace('-','_')\n",
    "    time_path = time_path.replace(':','_')\n",
    "    \n",
    "    wdepth_path += [os.path.join(output_folder, 'wdepth_'+ time_path +'.tif')]\n",
    "    wdepth_path[index]\n",
    "    if not os.path.exists(wdepth_path[index]):\n",
    "        print('Preparing download: {}'.format(time_path))\n",
    "        dl.download_waterdepth_raster(uuid,\"EPSG:28992\",resolution, time, pathname=wdepth_path[index])"
   ]
  }
 ],
 "metadata": {
  "interpreter": {
   "hash": "eea3b0fa5359ec1c5e7f02969caa90c878a261929c8203f99e9ee0f1d9a24aeb"
  },
  "kernelspec": {
   "display_name": "Python 3 (ipykernel)",
   "language": "python",
   "name": "python3"
  },
  "language_info": {
   "codemirror_mode": {
    "name": "ipython",
    "version": 3
   },
   "file_extension": ".py",
   "mimetype": "text/x-python",
   "name": "python",
   "nbconvert_exporter": "python",
   "pygments_lexer": "ipython3",
   "version": "3.7.10"
  }
 },
 "nbformat": 4,
 "nbformat_minor": 2
}
