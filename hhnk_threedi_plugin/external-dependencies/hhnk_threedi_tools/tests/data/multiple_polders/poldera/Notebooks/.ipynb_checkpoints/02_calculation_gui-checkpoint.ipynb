{
 "cells": [
  {
   "cell_type": "markdown",
   "metadata": {
    "ExecuteTime": {
     "end_time": "2021-09-09T15:04:32.766713Z",
     "start_time": "2021-09-09T15:04:32.628077Z"
    }
   },
   "source": [
    "# Steps:\n",
    "1. Laadt imports\n",
    "2. Vul variabelen in\n",
    "3. Draai start_calculation tab\n"
   ]
  },
  {
   "cell_type": "code",
   "execution_count": 3,
   "metadata": {
    "ExecuteTime": {
     "end_time": "2021-10-15T22:52:50.428346Z",
     "start_time": "2021-10-15T22:52:46.818054Z"
    },
    "scrolled": false
   },
   "outputs": [
    {
     "data": {
      "image/png": "[encoded data removed]",
      "text/plain": [
       "<Figure size 720x216 with 1 Axes>"
      ]
     },
     "metadata": {
      "needs_background": "light"
     },
     "output_type": "display_data"
    }
   ],
   "source": [
    "# imports\n",
    "import importlib\n",
    "import sys\n",
    "import os\n",
    "\n",
    "# ipython imports\n",
    "import ipywidgets as widgets\n",
    "from IPython.core.display import display, HTML; display(HTML(\"<style>.container {width:90% !important;}</style>\"))\n",
    "%matplotlib inline\n",
    "!jupyter nbextension enable --py --sys-prefix widgetsnbextension\n",
    "\n",
    "\n",
    "# pakketjes niet geinstalleerd? Kopieer van github en link met de onderstaande links:\n",
    "#sys.path.append('C:/Users/chris.kerklaan/Documents/Github/hhnk-threedi-tools')\n",
    "#sys.path.append('C:/Users/chris.kerklaan/Documents/Github/hhnk-research-tools')\n",
    "\n",
    "from hhnk_threedi_tools.core.api.calculation_gui import start_calculation_gui\n",
    "from hhnk_threedi_tools import read_notebook_json\n",
    "\n",
    "\n",
    "# start gui\n",
    "start_calculation_tab = start_calculation_gui(data=read_notebook_json(os.getcwd())); start_calculation_tab"
   ]
  },
  {
   "cell_type": "code",
   "execution_count": null,
   "metadata": {
    "ExecuteTime": {
     "end_time": "2021-10-12T12:13:24.229214Z",
     "start_time": "2021-10-12T12:13:21.843554Z"
    },
    "scrolled": false
   },
   "outputs": [],
   "source": []
  }
 ],
 "metadata": {
  "interpreter": {
   "hash": "eea3b0fa5359ec1c5e7f02969caa90c878a261929c8203f99e9ee0f1d9a24aeb"
  },
  "kernelspec": {
   "display_name": "Python 3",
   "language": "python",
   "name": "python3"
  },
  "language_info": {
   "codemirror_mode": {
    "name": "ipython",
    "version": 3
   },
   "file_extension": ".py",
   "mimetype": "text/x-python",
   "name": "python",
   "nbconvert_exporter": "python",
   "pygments_lexer": "ipython3",
   "version": "3.7.0"
  }
 },
 "nbformat": 4,
 "nbformat_minor": 4
}
