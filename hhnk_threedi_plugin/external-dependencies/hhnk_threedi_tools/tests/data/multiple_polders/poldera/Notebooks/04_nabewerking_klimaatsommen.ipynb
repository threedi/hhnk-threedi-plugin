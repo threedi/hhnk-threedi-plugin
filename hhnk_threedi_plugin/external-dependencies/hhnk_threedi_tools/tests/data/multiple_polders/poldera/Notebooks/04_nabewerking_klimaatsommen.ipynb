{
 "cells": [
  {
   "cell_type": "markdown",
   "id": "c1107963",
   "metadata": {},
   "source": [
    "04_nabewerking_klimaatsommen"
   ]
  },
  {
   "cell_type": "code",
   "execution_count": 1,
   "id": "157d44d6",
   "metadata": {},
   "outputs": [],
   "source": [
    "import os\n",
    "import geopandas as gpd\n",
    "import pandas as pd\n",
    "import matplotlib.pyplot as plt\n",
    "import numpy as np\n",
    "from osgeo import gdal\n",
    "import sys\n",
    "import importlib.resources as pkg_resources #Load resource from package\n",
    "import ipywidgets as widgets\n",
    "\n",
    "\n",
    "sys.path.append('C:/Users/chris.kerklaan/Documents/Github/hhnk-threedi-tools')\n",
    "sys.path.append('C:/Users/chris.kerklaan/Documents/Github/hhnk-research-tools')\n",
    "\n",
    "from hhnk_threedi_tools import Folders\n",
    "import hhnk_threedi_tools as htt\n",
    "import hhnk_research_tools as hrt\n",
    "\n",
    "# import hhnk_threedi_tools.core.climate_scenarios as hrt_climate\n",
    "import hhnk_threedi_tools.core.climate_scenarios.maskerkaart as maskerkaart\n",
    "import hhnk_threedi_tools.core.climate_scenarios.ruimtekaart as ruimtekaart\n",
    "from hhnk_threedi_tools.core.climate_scenarios.interpolate_rasters import main_interpolate_rasters\n",
    "import hhnk_threedi_tools.core.climate_scenarios.schadekaart as schadekaart\n",
    "import hhnk_threedi_tools.core.climate_scenarios.peilgebieden as peilgebieden\n",
    "from hhnk_threedi_tools.core.climate_scenarios.masker_filter_rasters import rasterize_maskerkaart, apply_mask_to_raster, remove_mask_from_raster\n",
    "from numpy.lib.function_base import kaiser\n",
    "\n",
    "\n",
    "\n",
    "\n",
    "\n",
    "\n",
    "\n",
    "\n",
    "\n"
   ]
  },
  {
   "cell_type": "code",
   "execution_count": 2,
   "id": "aa167425",
   "metadata": {},
   "outputs": [],
   "source": [
    "polders_folder = r\"C:\\Users\\chris.kerklaan\\Documents\\Github\\hhnk-threedi-tools\\hhnk_threedi_tools\\tests\\data\\multiple_polders\"\n",
    "polder = 'poldera' \n",
    "# --------------------------------------------------\n",
    "\n",
    "folder = Folders(os.path.join(polders_folder, polder))"
   ]
  },
  {
   "cell_type": "code",
   "execution_count": 3,
   "id": "ee884ade",
   "metadata": {},
   "outputs": [
    {
     "name": "stdout",
     "output_type": "stream",
     "text": [
      "Selecteer map met batch resultaten\n"
     ]
    },
    {
     "data": {
      "application/vnd.jupyter.widget-view+json": {
       "model_id": "06800799ef5d4304ae45aa070676ec50",
       "version_major": 2,
       "version_minor": 0
      },
      "text/plain": [
       "Select(layout=Layout(grid_area='output_folder_box', width='95%'), options=('bwn_test #5 (1) klimaatsommen', 'r…"
      ]
     },
     "metadata": {},
     "output_type": "display_data"
    },
    {
     "name": "stdout",
     "output_type": "stream",
     "text": [
      "Selecteer neerslagzone\n"
     ]
    },
    {
     "data": {
      "application/vnd.jupyter.widget-view+json": {
       "model_id": "418bfcd51d4f420a937c967cfea661de",
       "version_major": 2,
       "version_minor": 0
      },
      "text/plain": [
       "Select(layout=Layout(grid_area='precipitation_zone_box', width='95%'), options=('hevig', 'debilt'), rows=2, va…"
      ]
     },
     "metadata": {},
     "output_type": "display_data"
    },
    {
     "name": "stdout",
     "output_type": "stream",
     "text": [
      "Selecteer DEM bestand\n"
     ]
    },
    {
     "data": {
      "application/vnd.jupyter.widget-view+json": {
       "model_id": "76afdad3547248efae5146e058f627fd",
       "version_major": 2,
       "version_minor": 0
      },
      "text/plain": [
       "Dropdown(layout=Layout(grid_area='dem_path_dropdown', width='95%'), options=('dem_hoekje.tif',), value='dem_ho…"
      ]
     },
     "metadata": {},
     "output_type": "display_data"
    }
   ],
   "source": [
    "\n",
    "def item_layout(width=\"95%\", grid_area=\"\", **kwargs):\n",
    "    return widgets.Layout(\n",
    "        width=width, grid_area=grid_area, **kwargs\n",
    "    )  # override the default width of the button to 'auto' to let the button grow\n",
    "    \n",
    "output_folder_options = folder.threedi_results.batch.content\n",
    "\n",
    "# output_folder_label = widgets.Label('Selecteer output folder:', layout=item_layout(grid_area='output_folder_label'))\n",
    "output_folder_box = widgets.Select(\n",
    "    options=output_folder_options,\n",
    "    rows=3,\n",
    "    disabled=False,\n",
    "    layout=item_layout(grid_area=\"output_folder_box\"),\n",
    ")\n",
    "\n",
    "\n",
    "#Set Dem path if its not found\n",
    "dem_path_dropdown = widgets.Dropdown(\n",
    "    options=\"\",\n",
    "    disabled=False,\n",
    "    layout=item_layout(grid_area=\"dem_path_dropdown\"),\n",
    ")\n",
    "\n",
    "\n",
    "if folder.model.rasters.find_dem()=='':\n",
    "    dem_path_dropdown.options = [i.split(os.sep)[-1] for i in folder.model.rasters.find_ext('tif')]\n",
    "else:\n",
    "    dem_path_dropdown.options = [folder.model.rasters.dem.name + \".tif\"]\n",
    "#Batch folder selection\n",
    "\n",
    "\n",
    "#Display precipitation zones\n",
    "polder_shape = gpd.read_file(folder.source_data.polder_polygon.path)\n",
    "with pkg_resources.path(htt.resources, 'precipitation_zones_hhnk.tif') as p:\n",
    "    neerslag_list, neerslag_nodata, neerslag_meta = hrt.load_gdal_raster(p.absolute().as_posix(), band_count=3)\n",
    "with pkg_resources.path(htt.resources, 'precipitation_frequency.xlsx') as p:\n",
    "    freqs = pd.read_excel(p.absolute().as_posix())\n",
    "\n",
    "# fig, ax = plt.subplots(figsize=(15, 15))\n",
    "# ax.imshow(neerslag_list, extent=neerslag_meta['bounds'])\n",
    "# polder_shape.plot(ax=ax, color='red')\n",
    "\n",
    "\n",
    "precipitation_zone_box = widgets.Select(\n",
    "    options=['hevig', 'debilt'],\n",
    "    rows=2,\n",
    "    disabled=False,\n",
    "    value=None,\n",
    "    layout=item_layout(grid_area=\"precipitation_zone_box\"),\n",
    ")\n",
    "\n",
    "print(\"Selecteer map met batch resultaten\")\n",
    "display(output_folder_box)\n",
    "print(\"Selecteer neerslagzone\")\n",
    "display(precipitation_zone_box)\n",
    "print(\"Selecteer DEM bestand\")\n",
    "display(dem_path_dropdown)\n"
   ]
  },
  {
   "cell_type": "code",
   "execution_count": 4,
   "id": "89ffcd4c",
   "metadata": {},
   "outputs": [
    {
     "name": "stdout",
     "output_type": "stream",
     "text": [
      "Peilgebieden shapefile gevonden: peilgebieden_tHoekje.shp\n"
     ]
    }
   ],
   "source": [
    "batch_fd = folder.threedi_results.batch[output_folder_box.value]\n",
    "\n",
    "df = pd.DataFrame(batch_fd.downloads.names, columns=['dl_name'])\n",
    "for dl_name in batch_fd.downloads.names:\n",
    "    df.loc[df['dl_name']==dl_name, 'max_depth'] = getattr(batch_fd.downloads,dl_name).max_depth.path\n",
    "    df.loc[df['dl_name']==dl_name, 'total_damage'] = getattr(batch_fd.downloads,dl_name).total_damage.path\n",
    "    \n",
    "\n",
    "## %%\n",
    "\n",
    "#Selectie neerslag scenario\n",
    "precipitation_zone_box.value='debilt' #FIXME remove line after testing.\n",
    "if polder=='egmond':\n",
    "    precipitation_zone_box.value='hevig' #FIXME remove line after testing.\n",
    "\n",
    "freqs = freqs[['dl_name', 'freq_{}_jaar'.format(precipitation_zone_box.value)]]\n",
    "freqs.rename({'freq_{}_jaar'.format(precipitation_zone_box.value):'freq_jaar'}, axis=1, inplace=True)\n",
    "\n",
    "df_freqs = df.merge(freqs, on='dl_name')\n",
    "\n",
    "## %% Aanmaken of laden peilgebieden polygon\n",
    "if not folder.source_data.peilgebieden.peilgebieden.exists:\n",
    "    fixeddrainage = folder.source_data.datachecker.load('fixeddrainagelevelarea')\n",
    "    fixeddrainage.to_file(folder.source_data.peilgebieden.peilgebieden.path)\n",
    "    print(f'Peilgebieden shapefile aangemaakt: {folder.source_data.peilgebieden.peilgebieden.name}.shp')\n",
    "else:\n",
    "    print(f'Peilgebieden shapefile gevonden: {folder.source_data.peilgebieden.peilgebieden.name}.shp')\n"
   ]
  },
  {
   "cell_type": "code",
   "execution_count": 5,
   "id": "5d50654c",
   "metadata": {},
   "outputs": [
    {
     "name": "stdout",
     "output_type": "stream",
     "text": [
      "C:\\Users\\chris.kerklaan\\Documents\\Github\\hhnk-threedi-tools\\hhnk_threedi_tools\\tests\\data\\multiple_polders\\poldera\\03_3di_resultaten\\batch_results\\bwn_test #5 (1) klimaatsommen\\02_output_rasters\\maskerkaart.shp already exists\n",
      "C:\\Users\\chris.kerklaan\\Documents\\Github\\hhnk-threedi-tools\\hhnk_threedi_tools\\tests\\data\\multiple_polders\\poldera\\03_3di_resultaten\\batch_results\\bwn_test #5 (1) klimaatsommen\\02_output_rasters\\mask_diepte_plas.tif already exists\n",
      "C:\\Users\\chris.kerklaan\\Documents\\Github\\hhnk-threedi-tools\\hhnk_threedi_tools\\tests\\data\\multiple_polders\\poldera\\03_3di_resultaten\\batch_results\\bwn_test #5 (1) klimaatsommen\\02_output_rasters\\mask_diepte_overlast.tif already exists\n",
      "C:\\Users\\chris.kerklaan\\Documents\\Github\\hhnk-threedi-tools\\hhnk_threedi_tools\\tests\\data\\multiple_polders\\poldera\\03_3di_resultaten\\batch_results\\bwn_test #5 (1) klimaatsommen\\02_output_rasters\\mask_schade_plas.tif already exists\n",
      "C:\\Users\\chris.kerklaan\\Documents\\Github\\hhnk-threedi-tools\\hhnk_threedi_tools\\tests\\data\\multiple_polders\\poldera\\03_3di_resultaten\\batch_results\\bwn_test #5 (1) klimaatsommen\\02_output_rasters\\mask_schade_overlast.tif already exists\n"
     ]
    }
   ],
   "source": [
    "# %%\n",
    "\n",
    "\n",
    "\n",
    "## %% Maak masker en ruimtekaart\n",
    "\n",
    "## Maskerkaart\n",
    "\n",
    "#Aanmaken polygon van maskerkaart\n",
    "maskerkaart.command(path_piek=batch_fd.downloads.piek_GHG_T1000.netcdf.path, \n",
    "                    path_blok=batch_fd.downloads.blok_GHG_T1000.netcdf.path,\n",
    "                    path_out=batch_fd.output.maskerkaart.path)\n",
    "\n",
    "#Omzetten polygon in raster voor diepteraster\n",
    "_, _, depth_meta = hrt.load_gdal_raster(batch_fd.downloads.piek_GLG_T10.max_depth.path, \n",
    "                                            return_array=False)\n",
    "mask_depth = rasterize_maskerkaart(input_file=batch_fd.output.maskerkaart.path, \n",
    "                      mask_plas_path=batch_fd.output.mask_diepte_plas.path, \n",
    "                      mask_overlast_path=batch_fd.output.mask_diepte_overlast.path, \n",
    "                      meta=depth_meta)\n",
    "\n",
    "#Omzetten polygon in raster voor schaderaster (kan verschillen van diepte met andere resolutie)\n",
    "_, _, damage_meta = hrt.load_gdal_raster(batch_fd.downloads.piek_GLG_T10.total_damage.path, \n",
    "                                            return_array=False)\n",
    "mask_damage = rasterize_maskerkaart(input_file=batch_fd.output.maskerkaart.path, \n",
    "                      mask_plas_path=batch_fd.output.mask_schade_plas.path, \n",
    "                      mask_overlast_path=batch_fd.output.mask_schade_overlast.path, \n",
    "                      meta=damage_meta)\n"
   ]
  },
  {
   "cell_type": "code",
   "execution_count": 6,
   "id": "10233872",
   "metadata": {},
   "outputs": [
    {
     "name": "stdout",
     "output_type": "stream",
     "text": [
      "peilgebieden_diepte created\n",
      "peilgebieden_schade created\n"
     ]
    }
   ],
   "source": [
    "for raster_type, raster_name in zip(['max_depth', 'total_damage'], ['diepte', 'schade']):\n",
    "    peilgebieden.rasterize_peilgebieden(input_raster = hrt.Raster(df.iloc[0][raster_type]),\n",
    "                                                    output_file = getattr(batch_fd.output.temp, f'peilgebieden_{raster_name}'),\n",
    "                                                    input_peilgebieden= folder.source_data.peilgebieden.peilgebieden,\n",
    "                                                    output_peilgebieden = batch_fd.output.temp.peilgebieden,\n",
    "                                                    mask_path=batch_fd.output.maskerkaart.path,\n",
    "                                                    overwrite=False)\n"
   ]
  },
  {
   "cell_type": "code",
   "execution_count": 7,
   "id": "745af41d",
   "metadata": {},
   "outputs": [],
   "source": [
    "if not batch_fd.output.ruimtekaart.exists:\n",
    "# if True:\n",
    "    ruimtekaart.create_ruimtekaart(pgb_path=batch_fd.output.temp.peilgebieden.path, \n",
    "                        output_path=batch_fd.output.ruimtekaart.path, \n",
    "                        batch_fd=batch_fd)\n",
    "    print('Ruimtekaart created')"
   ]
  },
  {
   "cell_type": "code",
   "execution_count": 8,
   "id": "8653177b",
   "metadata": {},
   "outputs": [
    {
     "name": "stdout",
     "output_type": "stream",
     "text": [
      "C:\\Users\\chris.kerklaan\\Documents\\Github\\hhnk-threedi-tools\\hhnk_threedi_tools\\tests\\data\\multiple_polders\\poldera\\03_3di_resultaten\\batch_results\\bwn_test #5 (1) klimaatsommen\\02_output_rasters\\inundatiediepte_T0010.tif created\n",
      "C:\\Users\\chris.kerklaan\\Documents\\Github\\hhnk-threedi-tools\\hhnk_threedi_tools\\tests\\data\\multiple_polders\\poldera\\03_3di_resultaten\\batch_results\\bwn_test #5 (1) klimaatsommen\\02_output_rasters\\inundatiediepte_T0100.tif created\n",
      "C:\\Users\\chris.kerklaan\\Documents\\Github\\hhnk-threedi-tools\\hhnk_threedi_tools\\tests\\data\\multiple_polders\\poldera\\03_3di_resultaten\\batch_results\\bwn_test #5 (1) klimaatsommen\\02_output_rasters\\inundatiediepte_T1000.tif created\n"
     ]
    }
   ],
   "source": [
    "diepte_rasters = df_freqs['max_depth'].values\n",
    "frequenties = df_freqs['freq_jaar'].values\n",
    "\n",
    "\n",
    "for T in [10, 100, 1000]:\n",
    "\n",
    "    output_file = getattr(batch_fd.output, f'depth_T{T}_totaal')\n",
    "\n",
    "    #Voor de gegeven herhalingstijd, interpoleer de rasters.\n",
    "    main_interpolate_rasters(T = T,\n",
    "                                output_file =  output_file,\n",
    "                                rasters =  diepte_rasters,\n",
    "                                frequenties =  frequenties,\n",
    "                                output_nodata =  -9999.00,\n",
    "                                dem_path = folder.model.rasters.full_path(dem_path_dropdown.value),\n",
    "                                extra_nodata_value= 0)\n"
   ]
  },
  {
   "cell_type": "code",
   "execution_count": 9,
   "id": "e3f786d0",
   "metadata": {},
   "outputs": [
    {
     "name": "stdout",
     "output_type": "stream",
     "text": [
      "inundatiediepte_T0010_plas created\n",
      "inundatiediepte_T0010_overlast created\n",
      "inundatiediepte_T0100_plas created\n",
      "inundatiediepte_T0100_overlast created\n",
      "inundatiediepte_T1000_plas created\n",
      "inundatiediepte_T1000_overlast created\n"
     ]
    }
   ],
   "source": [
    "for T in [10, 100, 1000]:\n",
    "    input_raster = hrt.Raster(getattr(batch_fd.output, f'depth_T{T}_totaal').path)\n",
    "\n",
    "    # Creeer masker voor plas en overlast\n",
    "    for mask_type in ['plas','overlast']:\n",
    "        mask = hrt.Raster(getattr(batch_fd.output, f'mask_diepte_{mask_type}').path)\n",
    "\n",
    "        output_raster = getattr(batch_fd.output, f'depth_T{T}_{mask_type}')\n",
    "\n",
    "        if not output_raster.exists:\n",
    "            raster_array = input_raster._read_array()\n",
    "            mask_array = mask._read_array()\n",
    "\n",
    "\n",
    "            raster_array[~(mask_array==1)] = input_raster.nodata #Maskeer\n",
    "            hrt.save_raster_array_to_tiff(output_file=output_raster.path, \n",
    "                                            raster_array=raster_array, \n",
    "                                            nodata=input_raster.nodata, \n",
    "                                            metadata=input_raster.metadata)\n",
    "            print(f'{output_raster.name} created')\n",
    "\n",
    "        else: \n",
    "            print(f'{output_raster.name} already exists')\n",
    "raster_array=None\n",
    "mask_array=None"
   ]
  },
  {
   "cell_type": "code",
   "execution_count": 10,
   "id": "0726bfe7",
   "metadata": {},
   "outputs": [
    {
     "name": "stdout",
     "output_type": "stream",
     "text": [
      "cw_schade created\n"
     ]
    }
   ],
   "source": [
    "dv = 0.04 #discontovoet [%]\n",
    "n = 50 #investeringstermijn [jaren]\n",
    "schade_rasters = df_freqs['total_damage'].values\n",
    "frequencies = df_freqs['freq_jaar'].values\n",
    "output_raster = batch_fd.output.cw_schade_totaal\n",
    "\n",
    "if not output_raster.exists:\n",
    "    schadekaart.main_maak_schadekaart(output_raster=output_raster,\n",
    "                    schade_rasters=schade_rasters,\n",
    "                    frequencies=frequencies,\n",
    "                    output_nodata=0,\n",
    "                    dv=dv,\n",
    "                    n=n)\n",
    "    \n",
    "    print(f'{output_raster.name} created')\n",
    "else: \n",
    "    print(f'{output_raster.name} already exists')"
   ]
  },
  {
   "cell_type": "code",
   "execution_count": 11,
   "id": "fa43dee6",
   "metadata": {},
   "outputs": [
    {
     "name": "stdout",
     "output_type": "stream",
     "text": [
      "cw_schade_plas created\n",
      "cw_schade_overlast created\n"
     ]
    }
   ],
   "source": [
    "input_raster = hrt.Raster(batch_fd.output.cw_schade_totaal.path)\n",
    "\n",
    "# Creeer masker voor plas en overlast\n",
    "for mask_type in ['plas','overlast']:\n",
    "    mask = hrt.Raster(getattr(batch_fd.output, f'mask_schade_{mask_type}').path)\n",
    "\n",
    "    output_raster = getattr(batch_fd.output, f'cw_schade_{mask_type}')\n",
    "\n",
    "    if not output_raster.exists:\n",
    "        raster_array = input_raster._read_array()\n",
    "        mask_array = mask._read_array()\n",
    "\n",
    "        raster_array[~(mask_array==1)] = input_raster.nodata\n",
    "        hrt.save_raster_array_to_tiff(output_file=output_raster.path, \n",
    "                                        raster_array=raster_array, \n",
    "                                        nodata=input_raster.nodata, \n",
    "                                        metadata=input_raster.metadata)\n",
    "        print(f'{output_raster.name} created')\n",
    "\n",
    "    else: \n",
    "        print(f'{output_raster.name} already exists')\n",
    "raster_array=None\n",
    "mask_array=None\n",
    "\n"
   ]
  },
  {
   "cell_type": "code",
   "execution_count": 12,
   "id": "cec78544",
   "metadata": {},
   "outputs": [],
   "source": [
    "\n",
    "schade_gdf = gpd.read_file(batch_fd.output.temp.peilgebieden.path)\n",
    "labels_raster = hrt.Raster(batch_fd.output.temp.peilgebieden_schade.path)\n",
    "labels_index = schade_gdf['index'].values\n",
    "\n",
    "output_file = batch_fd.output.schade_peilgebied.path\n",
    "\n",
    "\n",
    "#Bereken totale schade per peilgebied voor de twee gemaskerde schaderasters.\n",
    "for mask_type, mask_name in zip(['plas','overlast'], ['mv', 'ws']):\n",
    "    schade_raster = hrt.Raster(getattr(batch_fd.output, f'cw_schade_{mask_type}').path)\n",
    "\n",
    "    #Calculate sum per region\n",
    "    accum  = schade_raster.sum_labels(labels_raster=labels_raster, labels_index=labels_index)\n",
    "\n",
    "    schade_gdf[f'cw_{mask_name}'] = accum\n",
    "\n",
    "schade_gdf['cw_tot'] = schade_gdf['cw_ws'] + schade_gdf['cw_mv']\n",
    "\n",
    "# schade_gdf = schade_gdf.loc[schade_gdf['cw_tot'] > 0.0]\n",
    "\n",
    "\n",
    "schade_per_polder = schade_gdf[['name', 'cw_tot', 'cw_ws', 'cw_mv']].groupby('name').sum().sort_values(\n",
    "    by='cw_ws', ascending=False)\n",
    "\n",
    "# Opslaan naar shapefile en csv\n",
    "schade_gdf.to_file(output_file)\n",
    "schade_per_polder.to_csv(batch_fd.output.schade_polder.path)"
   ]
  }
 ],
 "metadata": {
  "interpreter": {
   "hash": "eea3b0fa5359ec1c5e7f02969caa90c878a261929c8203f99e9ee0f1d9a24aeb"
  },
  "kernelspec": {
   "display_name": "Python 3 (ipykernel)",
   "language": "python",
   "name": "python3"
  },
  "language_info": {
   "codemirror_mode": {
    "name": "ipython",
    "version": 3
   },
   "file_extension": ".py",
   "mimetype": "text/x-python",
   "name": "python",
   "nbconvert_exporter": "python",
   "pygments_lexer": "ipython3",
   "version": "3.7.10"
  }
 },
 "nbformat": 4,
 "nbformat_minor": 5
}
