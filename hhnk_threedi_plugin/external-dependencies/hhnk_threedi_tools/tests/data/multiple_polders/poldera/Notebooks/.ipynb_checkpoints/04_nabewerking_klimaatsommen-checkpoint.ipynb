{
 "cells": [
  {
   "cell_type": "markdown",
   "id": "c1107963",
   "metadata": {},
   "source": [
    "04_nabewerking_klimaatsommen"
   ]
  },
  {
   "cell_type": "code",
   "execution_count": 2,
   "id": "157d44d6",
   "metadata": {},
   "outputs": [],
   "source": [
    "import os\n",
    "import geopandas as gpd\n",
    "import pandas as pd\n",
    "import matplotlib.pyplot as plt\n",
    "import numpy as np\n",
    "from osgeo import gdal\n",
    "import sys\n",
    "import importlib.resources as pkg_resources #Load resource from package\n",
    "import ipywidgets as widgets\n",
    "\n",
    "\n",
    "sys.path.append('C:/Users/chris.kerklaan/Documents/Github/hhnk-threedi-tools')\n",
    "sys.path.append('C:/Users/chris.kerklaan/Documents/Github/hhnk-research-tools')\n",
    "\n",
    "from hhnk_threedi_tools import Folders\n",
    "import hhnk_threedi_tools as htt\n",
    "import hhnk_research_tools as hrt\n",
    "\n",
    "# import hhnk_threedi_tools.core.climate_scenarios as hrt_climate\n",
    "import hhnk_threedi_tools.core.climate_scenarios.maskerkaart as maskerkaart\n",
    "import hhnk_threedi_tools.core.climate_scenarios.ruimtekaart as ruimtekaart\n",
    "from hhnk_threedi_tools.core.climate_scenarios.interpolate_rasters import main_interpolate_rasters\n",
    "import hhnk_threedi_tools.core.climate_scenarios.schadekaart as schadekaart\n",
    "import hhnk_threedi_tools.core.climate_scenarios.peilgebieden as peilgebieden\n",
    "from hhnk_threedi_tools.core.climate_scenarios.masker_filter_rasters import rasterize_maskerkaart, apply_mask_to_raster, remove_mask_from_raster\n",
    "from numpy.lib.function_base import kaiser\n",
    "\n",
    "\n",
    "\n",
    "\n",
    "\n",
    "\n",
    "\n",
    "\n",
    "\n"
   ]
  },
  {
   "cell_type": "code",
   "execution_count": 3,
   "id": "aa167425",
   "metadata": {},
   "outputs": [],
   "source": [
    "polders_folder = r\"C:\\Users\\chris.kerklaan\\Documents\\Github\\hhnk-threedi-tools\\hhnk_threedi_tools\\tests\\data\\multiple_polders\"\n",
    "polder = 'poldera' \n",
    "# --------------------------------------------------\n",
    "\n",
    "folder = Folders(os.path.join(polders_folder, polder))"
   ]
  },
  {
   "cell_type": "code",
   "execution_count": 4,
   "id": "ee884ade",
   "metadata": {},
   "outputs": [
    {
     "ename": "ImportError",
     "evalue": "Missing optional dependency 'xlrd'. Install xlrd >= 1.0.0 for Excel support Use pip or conda to install xlrd.",
     "output_type": "error",
     "traceback": [
      "\u001b[1;31m---------------------------------------------------------------------------\u001b[0m",
      "\u001b[1;31mImportError\u001b[0m                               Traceback (most recent call last)",
      "\u001b[1;32m<ipython-input-4-02eed0614cb1>\u001b[0m in \u001b[0;36m<module>\u001b[1;34m\u001b[0m\n\u001b[0;32m     35\u001b[0m     \u001b[0mneerslag_list\u001b[0m\u001b[1;33m,\u001b[0m \u001b[0mneerslag_nodata\u001b[0m\u001b[1;33m,\u001b[0m \u001b[0mneerslag_meta\u001b[0m \u001b[1;33m=\u001b[0m \u001b[0mhrt\u001b[0m\u001b[1;33m.\u001b[0m\u001b[0mload_gdal_raster\u001b[0m\u001b[1;33m(\u001b[0m\u001b[0mp\u001b[0m\u001b[1;33m.\u001b[0m\u001b[0mabsolute\u001b[0m\u001b[1;33m(\u001b[0m\u001b[1;33m)\u001b[0m\u001b[1;33m.\u001b[0m\u001b[0mas_posix\u001b[0m\u001b[1;33m(\u001b[0m\u001b[1;33m)\u001b[0m\u001b[1;33m,\u001b[0m \u001b[0mband_count\u001b[0m\u001b[1;33m=\u001b[0m\u001b[1;36m3\u001b[0m\u001b[1;33m)\u001b[0m\u001b[1;33m\u001b[0m\u001b[0m\n\u001b[0;32m     36\u001b[0m \u001b[1;32mwith\u001b[0m \u001b[0mpkg_resources\u001b[0m\u001b[1;33m.\u001b[0m\u001b[0mpath\u001b[0m\u001b[1;33m(\u001b[0m\u001b[0mhtt\u001b[0m\u001b[1;33m.\u001b[0m\u001b[0mresources\u001b[0m\u001b[1;33m,\u001b[0m \u001b[1;34m'precipitation_frequency.xlsx'\u001b[0m\u001b[1;33m)\u001b[0m \u001b[1;32mas\u001b[0m \u001b[0mp\u001b[0m\u001b[1;33m:\u001b[0m\u001b[1;33m\u001b[0m\u001b[0m\n\u001b[1;32m---> 37\u001b[1;33m     \u001b[0mfreqs\u001b[0m \u001b[1;33m=\u001b[0m \u001b[0mpd\u001b[0m\u001b[1;33m.\u001b[0m\u001b[0mread_excel\u001b[0m\u001b[1;33m(\u001b[0m\u001b[0mp\u001b[0m\u001b[1;33m.\u001b[0m\u001b[0mabsolute\u001b[0m\u001b[1;33m(\u001b[0m\u001b[1;33m)\u001b[0m\u001b[1;33m.\u001b[0m\u001b[0mas_posix\u001b[0m\u001b[1;33m(\u001b[0m\u001b[1;33m)\u001b[0m\u001b[1;33m)\u001b[0m\u001b[1;33m\u001b[0m\u001b[0m\n\u001b[0m\u001b[0;32m     38\u001b[0m \u001b[1;33m\u001b[0m\u001b[0m\n\u001b[0;32m     39\u001b[0m \u001b[1;31m# fig, ax = plt.subplots(figsize=(15, 15))\u001b[0m\u001b[1;33m\u001b[0m\u001b[1;33m\u001b[0m\u001b[0m\n",
      "\u001b[1;32mC:\\OSGEO4~1\\apps\\Python37\\lib\\site-packages\\pandas\\io\\excel\\_base.py\u001b[0m in \u001b[0;36mread_excel\u001b[1;34m(io, sheet_name, header, names, index_col, usecols, squeeze, dtype, engine, converters, true_values, false_values, skiprows, nrows, na_values, keep_default_na, verbose, parse_dates, date_parser, thousands, comment, skipfooter, convert_float, mangle_dupe_cols, **kwds)\u001b[0m\n\u001b[0;32m    302\u001b[0m \u001b[1;33m\u001b[0m\u001b[0m\n\u001b[0;32m    303\u001b[0m     \u001b[1;32mif\u001b[0m \u001b[1;32mnot\u001b[0m \u001b[0misinstance\u001b[0m\u001b[1;33m(\u001b[0m\u001b[0mio\u001b[0m\u001b[1;33m,\u001b[0m \u001b[0mExcelFile\u001b[0m\u001b[1;33m)\u001b[0m\u001b[1;33m:\u001b[0m\u001b[1;33m\u001b[0m\u001b[0m\n\u001b[1;32m--> 304\u001b[1;33m         \u001b[0mio\u001b[0m \u001b[1;33m=\u001b[0m \u001b[0mExcelFile\u001b[0m\u001b[1;33m(\u001b[0m\u001b[0mio\u001b[0m\u001b[1;33m,\u001b[0m \u001b[0mengine\u001b[0m\u001b[1;33m=\u001b[0m\u001b[0mengine\u001b[0m\u001b[1;33m)\u001b[0m\u001b[1;33m\u001b[0m\u001b[0m\n\u001b[0m\u001b[0;32m    305\u001b[0m     \u001b[1;32melif\u001b[0m \u001b[0mengine\u001b[0m \u001b[1;32mand\u001b[0m \u001b[0mengine\u001b[0m \u001b[1;33m!=\u001b[0m \u001b[0mio\u001b[0m\u001b[1;33m.\u001b[0m\u001b[0mengine\u001b[0m\u001b[1;33m:\u001b[0m\u001b[1;33m\u001b[0m\u001b[0m\n\u001b[0;32m    306\u001b[0m         raise ValueError(\n",
      "\u001b[1;32mC:\\OSGEO4~1\\apps\\Python37\\lib\\site-packages\\pandas\\io\\excel\\_base.py\u001b[0m in \u001b[0;36m__init__\u001b[1;34m(self, io, engine)\u001b[0m\n\u001b[0;32m    819\u001b[0m         \u001b[0mself\u001b[0m\u001b[1;33m.\u001b[0m\u001b[0m_io\u001b[0m \u001b[1;33m=\u001b[0m \u001b[0mstringify_path\u001b[0m\u001b[1;33m(\u001b[0m\u001b[0mio\u001b[0m\u001b[1;33m)\u001b[0m\u001b[1;33m\u001b[0m\u001b[0m\n\u001b[0;32m    820\u001b[0m \u001b[1;33m\u001b[0m\u001b[0m\n\u001b[1;32m--> 821\u001b[1;33m         \u001b[0mself\u001b[0m\u001b[1;33m.\u001b[0m\u001b[0m_reader\u001b[0m \u001b[1;33m=\u001b[0m \u001b[0mself\u001b[0m\u001b[1;33m.\u001b[0m\u001b[0m_engines\u001b[0m\u001b[1;33m[\u001b[0m\u001b[0mengine\u001b[0m\u001b[1;33m]\u001b[0m\u001b[1;33m(\u001b[0m\u001b[0mself\u001b[0m\u001b[1;33m.\u001b[0m\u001b[0m_io\u001b[0m\u001b[1;33m)\u001b[0m\u001b[1;33m\u001b[0m\u001b[0m\n\u001b[0m\u001b[0;32m    822\u001b[0m \u001b[1;33m\u001b[0m\u001b[0m\n\u001b[0;32m    823\u001b[0m     \u001b[1;32mdef\u001b[0m \u001b[0m__fspath__\u001b[0m\u001b[1;33m(\u001b[0m\u001b[0mself\u001b[0m\u001b[1;33m)\u001b[0m\u001b[1;33m:\u001b[0m\u001b[1;33m\u001b[0m\u001b[0m\n",
      "\u001b[1;32mC:\\OSGEO4~1\\apps\\Python37\\lib\\site-packages\\pandas\\io\\excel\\_xlrd.py\u001b[0m in \u001b[0;36m__init__\u001b[1;34m(self, filepath_or_buffer)\u001b[0m\n\u001b[0;32m     18\u001b[0m         \"\"\"\n\u001b[0;32m     19\u001b[0m         \u001b[0merr_msg\u001b[0m \u001b[1;33m=\u001b[0m \u001b[1;34m\"Install xlrd >= 1.0.0 for Excel support\"\u001b[0m\u001b[1;33m\u001b[0m\u001b[0m\n\u001b[1;32m---> 20\u001b[1;33m         \u001b[0mimport_optional_dependency\u001b[0m\u001b[1;33m(\u001b[0m\u001b[1;34m\"xlrd\"\u001b[0m\u001b[1;33m,\u001b[0m \u001b[0mextra\u001b[0m\u001b[1;33m=\u001b[0m\u001b[0merr_msg\u001b[0m\u001b[1;33m)\u001b[0m\u001b[1;33m\u001b[0m\u001b[0m\n\u001b[0m\u001b[0;32m     21\u001b[0m         \u001b[0msuper\u001b[0m\u001b[1;33m(\u001b[0m\u001b[1;33m)\u001b[0m\u001b[1;33m.\u001b[0m\u001b[0m__init__\u001b[0m\u001b[1;33m(\u001b[0m\u001b[0mfilepath_or_buffer\u001b[0m\u001b[1;33m)\u001b[0m\u001b[1;33m\u001b[0m\u001b[0m\n\u001b[0;32m     22\u001b[0m \u001b[1;33m\u001b[0m\u001b[0m\n",
      "\u001b[1;32mC:\\OSGEO4~1\\apps\\Python37\\lib\\site-packages\\pandas\\compat\\_optional.py\u001b[0m in \u001b[0;36mimport_optional_dependency\u001b[1;34m(name, extra, raise_on_missing, on_version)\u001b[0m\n\u001b[0;32m     90\u001b[0m     \u001b[1;32mexcept\u001b[0m \u001b[0mImportError\u001b[0m\u001b[1;33m:\u001b[0m\u001b[1;33m\u001b[0m\u001b[0m\n\u001b[0;32m     91\u001b[0m         \u001b[1;32mif\u001b[0m \u001b[0mraise_on_missing\u001b[0m\u001b[1;33m:\u001b[0m\u001b[1;33m\u001b[0m\u001b[0m\n\u001b[1;32m---> 92\u001b[1;33m             \u001b[1;32mraise\u001b[0m \u001b[0mImportError\u001b[0m\u001b[1;33m(\u001b[0m\u001b[0mmsg\u001b[0m\u001b[1;33m)\u001b[0m \u001b[1;32mfrom\u001b[0m \u001b[1;32mNone\u001b[0m\u001b[1;33m\u001b[0m\u001b[0m\n\u001b[0m\u001b[0;32m     93\u001b[0m         \u001b[1;32melse\u001b[0m\u001b[1;33m:\u001b[0m\u001b[1;33m\u001b[0m\u001b[0m\n\u001b[0;32m     94\u001b[0m             \u001b[1;32mreturn\u001b[0m \u001b[1;32mNone\u001b[0m\u001b[1;33m\u001b[0m\u001b[0m\n",
      "\u001b[1;31mImportError\u001b[0m: Missing optional dependency 'xlrd'. Install xlrd >= 1.0.0 for Excel support Use pip or conda to install xlrd."
     ]
    }
   ],
   "source": [
    "\n",
    "def item_layout(width=\"95%\", grid_area=\"\", **kwargs):\n",
    "    return widgets.Layout(\n",
    "        width=width, grid_area=grid_area, **kwargs\n",
    "    )  # override the default width of the button to 'auto' to let the button grow\n",
    "    \n",
    "output_folder_options = folder.threedi_results.batch.content\n",
    "\n",
    "# output_folder_label = widgets.Label('Selecteer output folder:', layout=item_layout(grid_area='output_folder_label'))\n",
    "output_folder_box = widgets.Select(\n",
    "    options=output_folder_options,\n",
    "    rows=3,\n",
    "    disabled=False,\n",
    "    layout=item_layout(grid_area=\"output_folder_box\"),\n",
    ")\n",
    "\n",
    "\n",
    "#Set Dem path if its not found\n",
    "dem_path_dropdown = widgets.Dropdown(\n",
    "    options=\"\",\n",
    "    disabled=False,\n",
    "    layout=item_layout(grid_area=\"dem_path_dropdown\"),\n",
    ")\n",
    "\n",
    "\n",
    "if folder.model.rasters.find_dem()=='':\n",
    "    dem_path_dropdown.options = [i.split(os.sep)[-1] for i in folder.model.rasters.find_ext('tif')]\n",
    "else:\n",
    "    dem_path_dropdown.options = [folder.model.rasters.dem.name + \".tif\"]\n",
    "#Batch folder selection\n",
    "\n",
    "\n",
    "#Display precipitation zones\n",
    "polder_shape = gpd.read_file(folder.source_data.polder_polygon.path)\n",
    "with pkg_resources.path(htt.resources, 'precipitation_zones_hhnk.tif') as p:\n",
    "    neerslag_list, neerslag_nodata, neerslag_meta = hrt.load_gdal_raster(p.absolute().as_posix(), band_count=3)\n",
    "with pkg_resources.path(htt.resources, 'precipitation_frequency.xlsx') as p:\n",
    "    freqs = pd.read_excel(p.absolute().as_posix())\n",
    "\n",
    "# fig, ax = plt.subplots(figsize=(15, 15))\n",
    "# ax.imshow(neerslag_list, extent=neerslag_meta['bounds'])\n",
    "# polder_shape.plot(ax=ax, color='red')\n",
    "\n",
    "\n",
    "precipitation_zone_box = widgets.Select(\n",
    "    options=['hevig', 'debilt'],\n",
    "    rows=2,\n",
    "    disabled=False,\n",
    "    value=None,\n",
    "    layout=item_layout(grid_area=\"precipitation_zone_box\"),\n",
    ")\n",
    "\n",
    "print(\"Selecteer map met batch resultaten\")\n",
    "display(output_folder_box)\n",
    "print(\"Selecteer neerslagzone\")\n",
    "display(precipitation_zone_box)\n",
    "print(\"Selecteer DEM bestand\")\n",
    "display(dem_path_dropdown)\n"
   ]
  },
  {
   "cell_type": "code",
   "execution_count": 5,
   "id": "89ffcd4c",
   "metadata": {},
   "outputs": [
    {
     "name": "stdout",
     "output_type": "stream",
     "text": [
      "Peilgebieden shapefile gevonden: peilgebieden_tHoekje.shp\n"
     ]
    }
   ],
   "source": [
    "batch_fd = folder.threedi_results.batch[output_folder_box.value]\n",
    "\n",
    "df = pd.DataFrame(batch_fd.downloads.names, columns=['dl_name'])\n",
    "for dl_name in batch_fd.downloads.names:\n",
    "    df.loc[df['dl_name']==dl_name, 'max_depth'] = getattr(batch_fd.downloads,dl_name).max_depth.path\n",
    "    df.loc[df['dl_name']==dl_name, 'total_damage'] = getattr(batch_fd.downloads,dl_name).total_damage.path\n",
    "    \n",
    "\n",
    "## %%\n",
    "\n",
    "#Selectie neerslag scenario\n",
    "precipitation_zone_box.value='debilt' #FIXME remove line after testing.\n",
    "if polder=='egmond':\n",
    "    precipitation_zone_box.value='hevig' #FIXME remove line after testing.\n",
    "\n",
    "freqs = freqs[['dl_name', 'freq_{}_jaar'.format(precipitation_zone_box.value)]]\n",
    "freqs.rename({'freq_{}_jaar'.format(precipitation_zone_box.value):'freq_jaar'}, axis=1, inplace=True)\n",
    "\n",
    "df_freqs = df.merge(freqs, on='dl_name')\n",
    "\n",
    "## %% Aanmaken of laden peilgebieden polygon\n",
    "if not folder.source_data.peilgebieden.peilgebieden.exists:\n",
    "    fixeddrainage = folder.source_data.datachecker.load('fixeddrainagelevelarea')\n",
    "    fixeddrainage.to_file(folder.source_data.peilgebieden.peilgebieden.path)\n",
    "    print(f'Peilgebieden shapefile aangemaakt: {folder.source_data.peilgebieden.peilgebieden.name}.shp')\n",
    "else:\n",
    "    print(f'Peilgebieden shapefile gevonden: {folder.source_data.peilgebieden.peilgebieden.name}.shp')\n"
   ]
  },
  {
   "cell_type": "code",
   "execution_count": 6,
   "id": "5d50654c",
   "metadata": {},
   "outputs": [
    {
     "name": "stdout",
     "output_type": "stream",
     "text": [
      "C:\\Users\\chris.kerklaan\\Documents\\Github\\hhnk-threedi-tools\\hhnk_threedi_tools\\tests\\data\\multiple_polders\\poldera\\03_3di_resultaten\\batch_results\\test_downloads\\02_output_rasters\\mask_diepte_plas.tif created\n",
      "C:\\Users\\chris.kerklaan\\Documents\\Github\\hhnk-threedi-tools\\hhnk_threedi_tools\\tests\\data\\multiple_polders\\poldera\\03_3di_resultaten\\batch_results\\test_downloads\\02_output_rasters\\mask_diepte_overlast.tif created\n",
      "C:\\Users\\chris.kerklaan\\Documents\\Github\\hhnk-threedi-tools\\hhnk_threedi_tools\\tests\\data\\multiple_polders\\poldera\\03_3di_resultaten\\batch_results\\test_downloads\\02_output_rasters\\mask_schade_plas.tif created\n",
      "C:\\Users\\chris.kerklaan\\Documents\\Github\\hhnk-threedi-tools\\hhnk_threedi_tools\\tests\\data\\multiple_polders\\poldera\\03_3di_resultaten\\batch_results\\test_downloads\\02_output_rasters\\mask_schade_overlast.tif created\n"
     ]
    }
   ],
   "source": [
    "# %%\n",
    "\n",
    "\n",
    "\n",
    "## %% Maak masker en ruimtekaart\n",
    "\n",
    "## Maskerkaart\n",
    "\n",
    "#Aanmaken polygon van maskerkaart\n",
    "maskerkaart.command(path_piek=batch_fd.downloads.piek_GHG_T1000.netcdf.path, \n",
    "                    path_blok=batch_fd.downloads.blok_GHG_T1000.netcdf.path,\n",
    "                    path_out=batch_fd.output.maskerkaart.path)\n",
    "\n",
    "#Omzetten polygon in raster voor diepteraster\n",
    "_, _, depth_meta = hrt.load_gdal_raster(batch_fd.downloads.piek_GLG_T10.max_depth.path, \n",
    "                                            return_array=False)\n",
    "mask_depth = rasterize_maskerkaart(input_file=batch_fd.output.maskerkaart.path, \n",
    "                      mask_plas_path=batch_fd.output.mask_diepte_plas.path, \n",
    "                      mask_overlast_path=batch_fd.output.mask_diepte_overlast.path, \n",
    "                      meta=depth_meta)\n",
    "\n",
    "#Omzetten polygon in raster voor schaderaster (kan verschillen van diepte met andere resolutie)\n",
    "_, _, damage_meta = hrt.load_gdal_raster(batch_fd.downloads.piek_GLG_T10.total_damage.path, \n",
    "                                            return_array=False)\n",
    "mask_damage = rasterize_maskerkaart(input_file=batch_fd.output.maskerkaart.path, \n",
    "                      mask_plas_path=batch_fd.output.mask_schade_plas.path, \n",
    "                      mask_overlast_path=batch_fd.output.mask_schade_overlast.path, \n",
    "                      meta=damage_meta)\n"
   ]
  },
  {
   "cell_type": "code",
   "execution_count": 7,
   "id": "10233872",
   "metadata": {},
   "outputs": [
    {
     "name": "stdout",
     "output_type": "stream",
     "text": [
      "peilgebieden_diepte created\n",
      "peilgebieden_schade created\n"
     ]
    }
   ],
   "source": [
    "for raster_type, raster_name in zip(['max_depth', 'total_damage'], ['diepte', 'schade']):\n",
    "    peilgebieden.rasterize_peilgebieden(input_raster = hrt.Raster(df.iloc[0][raster_type]),\n",
    "                                                    output_file = getattr(batch_fd.output.temp, f'peilgebieden_{raster_name}'),\n",
    "                                                    input_peilgebieden= folder.source_data.peilgebieden.peilgebieden,\n",
    "                                                    output_peilgebieden = batch_fd.output.temp.peilgebieden,\n",
    "                                                    mask_path=batch_fd.output.maskerkaart.path,\n",
    "                                                    overwrite=False)\n"
   ]
  },
  {
   "cell_type": "code",
   "execution_count": 8,
   "id": "745af41d",
   "metadata": {},
   "outputs": [
    {
     "name": "stdout",
     "output_type": "stream",
     "text": [
      "Ruimtekaart created\n"
     ]
    }
   ],
   "source": [
    "if not batch_fd.output.ruimtekaart.exists:\n",
    "# if True:\n",
    "    ruimtekaart.create_ruimtekaart(pgb_path=batch_fd.output.temp.peilgebieden.path, \n",
    "                        output_path=batch_fd.output.ruimtekaart.path, \n",
    "                        batch_fd=batch_fd)\n",
    "    print('Ruimtekaart created')"
   ]
  },
  {
   "cell_type": "code",
   "execution_count": 16,
   "id": "8653177b",
   "metadata": {},
   "outputs": [
    {
     "name": "stdout",
     "output_type": "stream",
     "text": [
      "C:\\Users\\chris.kerklaan\\Documents\\Github\\hhnk-threedi-tools\\hhnk_threedi_tools\\tests\\data\\multiple_polders\\poldera\\03_3di_resultaten\\batch_results\\test_downloads\\02_output_rasters\\inundatiediepte_T0010.tif created\n",
      "C:\\Users\\chris.kerklaan\\Documents\\Github\\hhnk-threedi-tools\\hhnk_threedi_tools\\tests\\data\\multiple_polders\\poldera\\03_3di_resultaten\\batch_results\\test_downloads\\02_output_rasters\\inundatiediepte_T0100.tif created\n",
      "C:\\Users\\chris.kerklaan\\Documents\\Github\\hhnk-threedi-tools\\hhnk_threedi_tools\\tests\\data\\multiple_polders\\poldera\\03_3di_resultaten\\batch_results\\test_downloads\\02_output_rasters\\inundatiediepte_T1000.tif created\n"
     ]
    }
   ],
   "source": [
    "diepte_rasters = df_freqs['max_depth'].values\n",
    "frequenties = df_freqs['freq_jaar'].values\n",
    "\n",
    "\n",
    "for T in [10, 100, 1000]:\n",
    "\n",
    "    output_file = getattr(batch_fd.output, f'depth_T{T}_totaal')\n",
    "\n",
    "    #Voor de gegeven herhalingstijd, interpoleer de rasters.\n",
    "    main_interpolate_rasters(T = T,\n",
    "                                output_file =  output_file,\n",
    "                                rasters =  diepte_rasters,\n",
    "                                frequenties =  frequenties,\n",
    "                                output_nodata =  -9999.00,\n",
    "                                dem_path = folder.model.rasters.full_path(dem_path_dropdown.value),\n",
    "                                extra_nodata_value= 0)\n"
   ]
  },
  {
   "cell_type": "code",
   "execution_count": 17,
   "id": "e3f786d0",
   "metadata": {},
   "outputs": [
    {
     "name": "stdout",
     "output_type": "stream",
     "text": [
      "inundatiediepte_T0010_plas created\n",
      "inundatiediepte_T0010_overlast created\n",
      "inundatiediepte_T0100_plas created\n",
      "inundatiediepte_T0100_overlast created\n",
      "inundatiediepte_T1000_plas created\n",
      "inundatiediepte_T1000_overlast created\n"
     ]
    }
   ],
   "source": [
    "for T in [10, 100, 1000]:\n",
    "    input_raster = hrt.Raster(getattr(batch_fd.output, f'depth_T{T}_totaal').path)\n",
    "\n",
    "    # Creeer masker voor plas en overlast\n",
    "    for mask_type in ['plas','overlast']:\n",
    "        mask = hrt.Raster(getattr(batch_fd.output, f'mask_diepte_{mask_type}').path)\n",
    "\n",
    "        output_raster = getattr(batch_fd.output, f'depth_T{T}_{mask_type}')\n",
    "\n",
    "        if not output_raster.exists:\n",
    "            raster_array = input_raster._read_array()\n",
    "            mask_array = mask._read_array()\n",
    "\n",
    "\n",
    "            raster_array[~(mask_array==1)] = input_raster.nodata #Maskeer\n",
    "            hrt.save_raster_array_to_tiff(output_file=output_raster.path, \n",
    "                                            raster_array=raster_array, \n",
    "                                            nodata=input_raster.nodata, \n",
    "                                            metadata=input_raster.metadata)\n",
    "            print(f'{output_raster.name} created')\n",
    "\n",
    "        else: \n",
    "            print(f'{output_raster.name} already exists')\n",
    "raster_array=None\n",
    "mask_array=None"
   ]
  },
  {
   "cell_type": "code",
   "execution_count": 18,
   "id": "0726bfe7",
   "metadata": {},
   "outputs": [
    {
     "name": "stdout",
     "output_type": "stream",
     "text": [
      "cw_schade created\n"
     ]
    }
   ],
   "source": [
    "dv = 0.04 #discontovoet [%]\n",
    "n = 50 #investeringstermijn [jaren]\n",
    "schade_rasters = df_freqs['total_damage'].values\n",
    "frequencies = df_freqs['freq_jaar'].values\n",
    "output_raster = batch_fd.output.cw_schade_totaal\n",
    "\n",
    "if not output_raster.exists:\n",
    "    schadekaart.main_maak_schadekaart(output_raster=output_raster,\n",
    "                    schade_rasters=schade_rasters,\n",
    "                    frequencies=frequencies,\n",
    "                    output_nodata=0,\n",
    "                    dv=dv,\n",
    "                    n=n)\n",
    "    \n",
    "    print(f'{output_raster.name} created')\n",
    "else: \n",
    "    print(f'{output_raster.name} already exists')"
   ]
  },
  {
   "cell_type": "code",
   "execution_count": 19,
   "id": "fa43dee6",
   "metadata": {},
   "outputs": [
    {
     "name": "stdout",
     "output_type": "stream",
     "text": [
      "cw_schade_plas created\n",
      "cw_schade_overlast created\n"
     ]
    }
   ],
   "source": [
    "input_raster = hrt.Raster(batch_fd.output.cw_schade_totaal.path)\n",
    "\n",
    "# Creeer masker voor plas en overlast\n",
    "for mask_type in ['plas','overlast']:\n",
    "    mask = hrt.Raster(getattr(batch_fd.output, f'mask_schade_{mask_type}').path)\n",
    "\n",
    "    output_raster = getattr(batch_fd.output, f'cw_schade_{mask_type}')\n",
    "\n",
    "    if not output_raster.exists:\n",
    "        raster_array = input_raster._read_array()\n",
    "        mask_array = mask._read_array()\n",
    "\n",
    "        raster_array[~(mask_array==1)] = input_raster.nodata\n",
    "        hrt.save_raster_array_to_tiff(output_file=output_raster.path, \n",
    "                                        raster_array=raster_array, \n",
    "                                        nodata=input_raster.nodata, \n",
    "                                        metadata=input_raster.metadata)\n",
    "        print(f'{output_raster.name} created')\n",
    "\n",
    "    else: \n",
    "        print(f'{output_raster.name} already exists')\n",
    "raster_array=None\n",
    "mask_array=None\n",
    "\n"
   ]
  },
  {
   "cell_type": "code",
   "execution_count": 20,
   "id": "cec78544",
   "metadata": {},
   "outputs": [],
   "source": [
    "\n",
    "schade_gdf = gpd.read_file(batch_fd.output.temp.peilgebieden.path)\n",
    "labels_raster = hrt.Raster(batch_fd.output.temp.peilgebieden_schade.path)\n",
    "labels_index = schade_gdf['index'].values\n",
    "\n",
    "output_file = batch_fd.output.schade_peilgebied.path\n",
    "\n",
    "\n",
    "#Bereken totale schade per peilgebied voor de twee gemaskerde schaderasters.\n",
    "for mask_type, mask_name in zip(['plas','overlast'], ['mv', 'ws']):\n",
    "    schade_raster = hrt.Raster(getattr(batch_fd.output, f'cw_schade_{mask_type}').path)\n",
    "\n",
    "    #Calculate sum per region\n",
    "    accum  = schade_raster.sum_labels(labels_raster=labels_raster, labels_index=labels_index)\n",
    "\n",
    "    schade_gdf[f'cw_{mask_name}'] = accum\n",
    "\n",
    "schade_gdf['cw_tot'] = schade_gdf['cw_ws'] + schade_gdf['cw_mv']\n",
    "\n",
    "# schade_gdf = schade_gdf.loc[schade_gdf['cw_tot'] > 0.0]\n",
    "\n",
    "\n",
    "schade_per_polder = schade_gdf[['name', 'cw_tot', 'cw_ws', 'cw_mv']].groupby('name').sum().sort_values(\n",
    "    by='cw_ws', ascending=False)\n",
    "\n",
    "# Opslaan naar shapefile en csv\n",
    "schade_gdf.to_file(output_file)\n",
    "schade_per_polder.to_csv(batch_fd.output.schade_polder.path)"
   ]
  }
 ],
 "metadata": {
  "interpreter": {
   "hash": "eea3b0fa5359ec1c5e7f02969caa90c878a261929c8203f99e9ee0f1d9a24aeb"
  },
  "kernelspec": {
   "display_name": "Python 3",
   "language": "python",
   "name": "python3"
  },
  "language_info": {
   "codemirror_mode": {
    "name": "ipython",
    "version": 3
   },
   "file_extension": ".py",
   "mimetype": "text/x-python",
   "name": "python",
   "nbconvert_exporter": "python",
   "pygments_lexer": "ipython3",
   "version": "3.7.0"
  }
 },
 "nbformat": 4,
 "nbformat_minor": 5
}
