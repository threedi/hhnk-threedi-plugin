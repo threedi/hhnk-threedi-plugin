{
 "cells": [
  {
   "cell_type": "code",
   "execution_count": 2,
   "id": "7ffcec2a",
   "metadata": {
    "ExecuteTime": {
     "end_time": "2021-09-30T13:41:13.717790Z",
     "start_time": "2021-09-30T13:41:13.709791Z"
    }
   },
   "outputs": [
    {
     "data": {
      "text/plain": [
       "['BankLevelTest',\n",
       " 'Folders',\n",
       " 'OneDTwoDTest',\n",
       " 'SqliteTest',\n",
       " 'ZeroDOneDTest',\n",
       " '__builtins__',\n",
       " '__cached__',\n",
       " '__doc__',\n",
       " '__file__',\n",
       " '__loader__',\n",
       " '__name__',\n",
       " '__package__',\n",
       " '__path__',\n",
       " '__spec__',\n",
       " 'core',\n",
       " 'create_backups',\n",
       " 'open_notebook',\n",
       " 'qgis',\n",
       " 'select_values_to_update_from_backup',\n",
       " 'sys',\n",
       " 'update_bank_levels_last_calc',\n",
       " 'utils',\n",
       " 'variables']"
      ]
     },
     "execution_count": 2,
     "metadata": {},
     "output_type": "execute_result"
    }
   ],
   "source": [
    "# import os\n",
    "import pandas as pd\n",
    "import matplotlib.pyplot as plt\n",
    "# %matplotlib inline\n",
    "\n",
    "#Local imports\n",
    "import sys\n",
    "# sys.path.append(r'C:/Users/chris.kerklaan/Documents/Github/hhnk-threedi-tools')\n",
    "# sys.path.append(r'C:\\\\Users\\wvangerwen\\github\\hhnk-threedi-tools')\n",
    "\n",
    "from hhnk_threedi_tools import Folders\n",
    "# from hhnk_research_tools.variables import (\n",
    "#     file_types_dict)\n",
    "# # import hhnk_threedi_tools as htt\n",
    "# import hhnk_research_tools as hrt\n",
    "import geopandas as gpd\n",
    "\n",
    "\n",
    "import hhnk_threedi_tools as htt\n",
    "import hhnk_research_tools as hrt\n",
    "dir(htt)"
   ]
  },
  {
   "cell_type": "code",
   "execution_count": 3,
   "id": "9e411f9f",
   "metadata": {
    "ExecuteTime": {
     "end_time": "2021-09-30T13:44:05.938236Z",
     "start_time": "2021-09-30T13:44:05.858235Z"
    }
   },
   "outputs": [
    {
     "ename": "NameError",
     "evalue": "name 'ds' is not defined",
     "output_type": "error",
     "traceback": [
      "\u001b[1;31m---------------------------------------------------------------------------\u001b[0m",
      "\u001b[1;31mNameError\u001b[0m                                 Traceback (most recent call last)",
      "\u001b[1;32mC:\\Users\\WVANGE~1\\AppData\\Local\\Temp\\3/ipykernel_8448/2369097233.py\u001b[0m in \u001b[0;36m<module>\u001b[1;34m\u001b[0m\n\u001b[1;32m----> 1\u001b[1;33m \u001b[0mds\u001b[0m\u001b[1;33m\u001b[0m\u001b[1;33m\u001b[0m\u001b[0m\n\u001b[0m",
      "\u001b[1;31mNameError\u001b[0m: name 'ds' is not defined"
     ]
    }
   ],
   "source": [
    "ds"
   ]
  },
  {
   "cell_type": "code",
   "execution_count": null,
   "id": "fd43506b",
   "metadata": {
    "ExecuteTime": {
     "start_time": "2021-09-30T13:40:50.107Z"
    }
   },
   "outputs": [],
   "source": [
    "import sys\n",
    "# sys.path.append(r'C:/Users/chris.kerklaan/Documents/Github/hhnk-threedi-tools')\n",
    "sys.path.append('C:\\\\Users\\wvangerwen\\github\\hhnk-threedi-tools')\n",
    "# from hhnk_threedi_tools.core.folders import Folders"
   ]
  },
  {
   "cell_type": "code",
   "execution_count": 3,
   "id": "b48565bb",
   "metadata": {},
   "outputs": [
    {
     "ename": "ImportError",
     "evalue": "cannot import name 'haha' from 'hhnk_threedi_tools.core.folders' (C:\\\\Users\\wvangerwen\\github\\hhnk-threedi-tools\\hhnk_threedi_tools\\core\\folders.py)",
     "output_type": "error",
     "traceback": [
      "\u001b[1;31m---------------------------------------------------------------------------\u001b[0m",
      "\u001b[1;31mImportError\u001b[0m                               Traceback (most recent call last)",
      "\u001b[1;32mC:\\Users\\WVANGE~1\\AppData\\Local\\Temp\\3/ipykernel_7744/3918748322.py\u001b[0m in \u001b[0;36m<module>\u001b[1;34m\u001b[0m\n\u001b[1;32m----> 1\u001b[1;33m \u001b[1;32mfrom\u001b[0m \u001b[0mhhnk_threedi_tools\u001b[0m\u001b[1;33m.\u001b[0m\u001b[0mcore\u001b[0m\u001b[1;33m.\u001b[0m\u001b[0mfolders\u001b[0m \u001b[1;32mimport\u001b[0m \u001b[0mhaha\u001b[0m\u001b[1;33m\u001b[0m\u001b[1;33m\u001b[0m\u001b[0m\n\u001b[0m",
      "\u001b[1;31mImportError\u001b[0m: cannot import name 'haha' from 'hhnk_threedi_tools.core.folders' (C:\\\\Users\\wvangerwen\\github\\hhnk-threedi-tools\\hhnk_threedi_tools\\core\\folders.py)"
     ]
    }
   ],
   "source": [
    "from hhnk_threedi_tools.core.folders import haha"
   ]
  },
  {
   "cell_type": "code",
   "execution_count": 4,
   "id": "9c4d17b3",
   "metadata": {},
   "outputs": [],
   "source": [
    "polders_folder = \"C:/Users/wvangerwen/Github/hhnk-threedi-tools/hhnk_threedi_tools/tests/data/multiple_polders\"\n",
    "polder = 'poldera' #Leeg laten voor handmatige invoer\n",
    "# --------------------------------------------------\n",
    "# BATCH_FOLDER_NAME = 'batch_Egmond_WO_juni21#4_sc2'\n",
    "\n",
    "\n",
    "folder = Folders(os.path.join(polders_folder, polder))"
   ]
  },
  {
   "cell_type": "code",
   "execution_count": 5,
   "id": "5ccfd17c",
   "metadata": {},
   "outputs": [
    {
     "name": "stdout",
     "output_type": "stream",
     "text": [
      "hi\n"
     ]
    }
   ],
   "source": [
    "from hhnk_threedi_tools import Folders\n",
    "\n",
    "print('hi')"
   ]
  }
 ],
 "metadata": {
  "interpreter": {
   "hash": "eea3b0fa5359ec1c5e7f02969caa90c878a261929c8203f99e9ee0f1d9a24aeb"
  },
  "kernelspec": {
   "display_name": "Python 3 (ipykernel)",
   "language": "python",
   "name": "python3"
  },
  "language_info": {
   "codemirror_mode": {
    "name": "ipython",
    "version": 3
   },
   "file_extension": ".py",
   "mimetype": "text/x-python",
   "name": "python",
   "nbconvert_exporter": "python",
   "pygments_lexer": "ipython3",
   "version": "3.7.10"
  }
 },
 "nbformat": 4,
 "nbformat_minor": 5
}
