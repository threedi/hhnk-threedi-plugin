{
 "cells": [
  {
   "cell_type": "code",
   "execution_count": 2,
   "id": "c1088cf9",
   "metadata": {},
   "outputs": [
    {
     "data": {
      "text/plain": [
       "['C:\\\\Users\\\\chris.kerklaan\\\\AppData\\\\Roaming\\\\QGIS\\\\QGIS3\\\\profiles\\\\default\\\\python\\\\plugins\\\\hhnk_threedi_plugin',\n",
       " 'C:\\\\OSGEO4~1\\\\apps\\\\qgis-ltr\\\\python',\n",
       " 'C:\\\\OSGEO4~1\\\\apps\\\\Python37',\n",
       " 'C:\\\\OSGEO4~1\\\\apps\\\\Python37\\\\Scripts',\n",
       " 'C:\\\\OSGEO4~1\\\\apps\\\\Python37\\\\python37.zip',\n",
       " 'C:\\\\OSGEO4~1\\\\apps\\\\Python37\\\\DLLs',\n",
       " 'C:\\\\OSGEO4~1\\\\apps\\\\Python37\\\\lib',\n",
       " '',\n",
       " 'C:\\\\Users\\\\chris.kerklaan\\\\AppData\\\\Roaming\\\\Python\\\\Python37\\\\site-packages',\n",
       " 'C:\\\\OSGEO4~1\\\\apps\\\\Python37\\\\lib\\\\site-packages',\n",
       " 'C:\\\\OSGEO4~1\\\\apps\\\\Python37\\\\lib\\\\site-packages\\\\win32',\n",
       " 'C:\\\\OSGEO4~1\\\\apps\\\\Python37\\\\lib\\\\site-packages\\\\win32\\\\lib',\n",
       " 'C:\\\\OSGEO4~1\\\\apps\\\\Python37\\\\lib\\\\site-packages\\\\Pythonwin',\n",
       " 'C:\\\\Users\\\\chris.kerklaan\\\\AppData\\\\Roaming\\\\Python\\\\Python37\\\\site-packages\\\\IPython\\\\extensions',\n",
       " 'C:\\\\Users\\\\chris.kerklaan\\\\.ipython']"
      ]
     },
     "execution_count": 2,
     "metadata": {},
     "output_type": "execute_result"
    }
   ],
   "source": [
    "import sys\n",
    "sys.path"
   ]
  }
 ],
 "metadata": {
  "kernelspec": {
   "display_name": "Python 3",
   "language": "python",
   "name": "python3"
  },
  "language_info": {
   "codemirror_mode": {
    "name": "ipython",
    "version": 3
   },
   "file_extension": ".py",
   "mimetype": "text/x-python",
   "name": "python",
   "nbconvert_exporter": "python",
   "pygments_lexer": "ipython3",
   "version": "3.7.0"
  }
 },
 "nbformat": 4,
 "nbformat_minor": 5
}
